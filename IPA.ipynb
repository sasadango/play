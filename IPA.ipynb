{
 "cells": [
  {
   "cell_type": "code",
   "execution_count": 1,
   "metadata": {},
   "outputs": [],
   "source": [
    "import numpy as np\n",
    "import matplotlib.pyplot as plt\n",
    "import japanize_matplotlib"
   ]
  },
  {
   "cell_type": "code",
   "execution_count": 2,
   "metadata": {},
   "outputs": [
    {
     "data": {
      "image/png": "[encoded data removed]",
      "text/plain": [
       "<Figure size 432x288 with 1 Axes>"
      ]
     },
     "metadata": {
      "needs_background": "light"
     },
     "output_type": "display_data"
    }
   ],
   "source": [
    "labels = np.array(['0-9', '10-19', '20-29', '30-39', '40-49', '50-59',\\\n",
    "                 '60-69', '70-79', '80-89', '90-100'])\n",
    "height_1 = np.array([8, 20, 409, 2737, 6537, 8920, 8586,\\\n",
    "                     4608, 976, 44])\n",
    "height_2 = np.array([3, 11, 63, 454, 2008, 4067, 4231,\\\n",
    "                     2437, 796, 91])\n",
    "\n",
    "left = np.arange(len(height_1))\n",
    "width = 0.4\n",
    "\n",
    "g1 = plt.bar(left, height_1, color=\"r\", width=width,\n",
    "             label='午前', align='center')\n",
    "g2 = plt.bar(left+width, height_2, color='g', width=width,\n",
    "             label='午後', align='center')\n",
    "\n",
    "plt.title(\"応用情報技術者試験の得点分布\")\n",
    "plt.xlabel(\"得点\")\n",
    "plt.ylabel(\"人数\")\n",
    "plt.xticks(left+width/2, labels)\n",
    "plt.legend(handles=[g1,g2],loc='best')\n",
    "plt.show()"
   ]
  },
  {
   "cell_type": "code",
   "execution_count": 3,
   "metadata": {},
   "outputs": [],
   "source": [
    "am_sum = sum(height_1)\n",
    "pm_sum = sum(height_2)"
   ]
  },
  {
   "cell_type": "code",
   "execution_count": 4,
   "metadata": {},
   "outputs": [
    {
     "name": "stdout",
     "output_type": "stream",
     "text": [
      "午前受験者数:  32845\n",
      "午後受験者数:  14161\n"
     ]
    }
   ],
   "source": [
    "# 午前受験者数，午後受験者数\n",
    "print(\"午前受験者数: \", am_sum)\n",
    "print(\"午後受験者数: \", pm_sum)"
   ]
  },
  {
   "cell_type": "code",
   "execution_count": 5,
   "metadata": {},
   "outputs": [
    {
     "name": "stdout",
     "output_type": "stream",
     "text": [
      "午前受験者の受験料:  187,216,500円\n",
      "午後棄権者の受験料:  106,498,800円\n"
     ]
    }
   ],
   "source": [
    "# 受験料概算\n",
    "print(\"午前受験者の受験料: \", \"{:,}\".format(\n",
    "    5700 * am_sum) + \"円\")\n",
    "print(\"午後棄権者の受験料: \", \"{:,}\".format(\n",
    "    5700 * (am_sum-pm_sum)) + \"円\")"
   ]
  },
  {
   "cell_type": "code",
   "execution_count": 6,
   "metadata": {},
   "outputs": [
    {
     "name": "stdout",
     "output_type": "stream",
     "text": [
      "棄権者数:  18684\n",
      "棄権者数の割合:  0.5688537068046887\n"
     ]
    }
   ],
   "source": [
    "# 午後試験棄権者数\n",
    "print(\"棄権者数: \", am_sum-pm_sum)\n",
    "print(\"棄権者数の割合: \", (am_sum-pm_sum) / am_sum)"
   ]
  },
  {
   "cell_type": "code",
   "execution_count": 7,
   "metadata": {},
   "outputs": [
    {
     "name": "stdout",
     "output_type": "stream",
     "text": [
      "人数:  14214\n",
      "割合:  0.4327599330187243\n"
     ]
    }
   ],
   "source": [
    "# 午前試験，得点率60％以上\n",
    "print(\"人数: \", sum(height_1[6:]))\n",
    "am_ok = sum(height_1[6:])/am_sum\n",
    "print(\"割合: \", am_ok)"
   ]
  },
  {
   "cell_type": "code",
   "execution_count": 8,
   "metadata": {},
   "outputs": [
    {
     "name": "stdout",
     "output_type": "stream",
     "text": [
      "人数:  7555\n",
      "割合:  0.5335075206553209\n"
     ]
    }
   ],
   "source": [
    "# 午後試験，得点率60％以上\n",
    "print(\"人数: \", sum(height_2[6:]))\n",
    "pm_ok = sum(height_2[6:])/pm_sum\n",
    "print(\"割合: \", pm_ok)"
   ]
  },
  {
   "cell_type": "code",
   "execution_count": 9,
   "metadata": {},
   "outputs": [
    {
     "name": "stdout",
     "output_type": "stream",
     "text": [
      "合格率: 23.088067890378234 %\n"
     ]
    }
   ],
   "source": [
    "# 合格率\n",
    "print(\"合格率: %s %%\" % (am_ok * pm_ok *100))"
   ]
  },
  {
   "cell_type": "code",
   "execution_count": null,
   "metadata": {},
   "outputs": [],
   "source": []
  },
  {
   "cell_type": "code",
   "execution_count": 10,
   "metadata": {},
   "outputs": [
    {
     "name": "stdout",
     "output_type": "stream",
     "text": [
      "平均点:  57.298066676815345\n",
      "中央値:  60.0\n",
      "最頻値:  55\n"
     ]
    }
   ],
   "source": [
    "# 午前試験\n",
    "score = [5, 15, 25, 35, 45, 55, 65, 75, 85, 95]\n",
    "sum_sco = []\n",
    "for i in range(10):\n",
    "    sum_sco.append(height_1[i] * score[i])\n",
    "print(\"平均点: \", sum(sum_sco)/am_sum)\n",
    "print(\"中央値: \", (55+65)/2)\n",
    "print(\"最頻値: \", score[np.argmax(height_1)])"
   ]
  },
  {
   "cell_type": "code",
   "execution_count": 11,
   "metadata": {},
   "outputs": [
    {
     "name": "stdout",
     "output_type": "stream",
     "text": [
      "平均点:  61.13869077042582\n",
      "中央値:  60.0\n",
      "最頻値:  65\n"
     ]
    }
   ],
   "source": [
    "# 午後試験\n",
    "score = [5, 15, 25, 35, 45, 55, 65, 75, 85, 95]\n",
    "sum_sco = []\n",
    "for i in range(10):\n",
    "    sum_sco.append(height_2[i] * score[i])\n",
    "print(\"平均点: \", sum(sum_sco)/sum(height_2))\n",
    "print(\"中央値: \", (55+65)/2)\n",
    "print(\"最頻値: \", score[np.argmax(height_2)])"
   ]
  },
  {
   "cell_type": "markdown",
   "metadata": {},
   "source": []
  }
 ],
 "metadata": {
  "kernelspec": {
   "display_name": "Python 3",
   "language": "python",
   "name": "python3"
  },
  "language_info": {
   "codemirror_mode": {
    "name": "ipython",
    "version": 3
   },
   "file_extension": ".py",
   "mimetype": "text/x-python",
   "name": "python",
   "nbconvert_exporter": "python",
   "pygments_lexer": "ipython3",
   "version": "3.7.0"
  }
 },
 "nbformat": 4,
 "nbformat_minor": 2
}
